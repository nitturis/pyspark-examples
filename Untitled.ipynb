{
 "cells": [
  {
   "cell_type": "code",
   "execution_count": 1,
   "metadata": {},
   "outputs": [],
   "source": [
    "from pyspark.sql import SparkSession\n",
    "spark = SparkSession \\\n",
    ".builder \\\n",
    ".appName(\"Python Spark create RDD example\") \\\n",
    ".config(\"spark.some.config.option\", \"some-value\") \\\n",
    ".getOrCreate()"
   ]
  },
  {
   "cell_type": "code",
   "execution_count": 2,
   "metadata": {},
   "outputs": [],
   "source": [
    "import pandas as pd"
   ]
  },
  {
   "cell_type": "code",
   "execution_count": 3,
   "metadata": {},
   "outputs": [],
   "source": [
    "dp = pd.read_json(\"http://api.luftdaten.info/static/v1/data.json\")"
   ]
  },
  {
   "cell_type": "code",
   "execution_count": 4,
   "metadata": {},
   "outputs": [
    {
     "data": {
      "text/html": [
       "<div>\n",
       "<style scoped>\n",
       "    .dataframe tbody tr th:only-of-type {\n",
       "        vertical-align: middle;\n",
       "    }\n",
       "\n",
       "    .dataframe tbody tr th {\n",
       "        vertical-align: top;\n",
       "    }\n",
       "\n",
       "    .dataframe thead th {\n",
       "        text-align: right;\n",
       "    }\n",
       "</style>\n",
       "<table border=\"1\" class=\"dataframe\">\n",
       "  <thead>\n",
       "    <tr style=\"text-align: right;\">\n",
       "      <th></th>\n",
       "      <th>id</th>\n",
       "      <th>sampling_rate</th>\n",
       "      <th>timestamp</th>\n",
       "      <th>location</th>\n",
       "      <th>sensor</th>\n",
       "      <th>sensordatavalues</th>\n",
       "    </tr>\n",
       "  </thead>\n",
       "  <tbody>\n",
       "    <tr>\n",
       "      <th>0</th>\n",
       "      <td>5226389277</td>\n",
       "      <td>NaN</td>\n",
       "      <td>2021-05-21 08:29:02</td>\n",
       "      <td>{'id': 29322, 'latitude': '-33.67297030983', '...</td>\n",
       "      <td>{'id': 43722, 'pin': '1', 'sensor_type': {'id'...</td>\n",
       "      <td>[{'id': 11403581044, 'value': '7', 'value_type...</td>\n",
       "    </tr>\n",
       "    <tr>\n",
       "      <th>1</th>\n",
       "      <td>5226389276</td>\n",
       "      <td>NaN</td>\n",
       "      <td>2021-05-21 08:29:02</td>\n",
       "      <td>{'id': 45770, 'latitude': '51.07770890000', 'l...</td>\n",
       "      <td>{'id': 59912, 'pin': '1', 'sensor_type': {'id'...</td>\n",
       "      <td>[{'id': 11403581047, 'value': '24.70', 'value_...</td>\n",
       "    </tr>\n",
       "    <tr>\n",
       "      <th>2</th>\n",
       "      <td>5226389275</td>\n",
       "      <td>NaN</td>\n",
       "      <td>2021-05-21 08:29:02</td>\n",
       "      <td>{'id': 30652, 'latitude': '47.61994715000', 'l...</td>\n",
       "      <td>{'id': 44915, 'pin': '1', 'sensor_type': {'id'...</td>\n",
       "      <td>[{'id': 11403581036, 'value': '3.3', 'value_ty...</td>\n",
       "    </tr>\n",
       "    <tr>\n",
       "      <th>3</th>\n",
       "      <td>5226389274</td>\n",
       "      <td>NaN</td>\n",
       "      <td>2021-05-21 08:29:02</td>\n",
       "      <td>{'id': 17916, 'latitude': '51.516', 'longitude...</td>\n",
       "      <td>{'id': 31284, 'pin': '1', 'sensor_type': {'id'...</td>\n",
       "      <td>[{'id': 11403581037, 'value': '15.47', 'value_...</td>\n",
       "    </tr>\n",
       "    <tr>\n",
       "      <th>4</th>\n",
       "      <td>5226389273</td>\n",
       "      <td>NaN</td>\n",
       "      <td>2021-05-21 08:29:02</td>\n",
       "      <td>{'id': 33376, 'latitude': '51.306', 'longitude...</td>\n",
       "      <td>{'id': 23321, 'pin': '11', 'sensor_type': {'id...</td>\n",
       "      <td>[{'id': 11403581031, 'value': '16.59', 'value_...</td>\n",
       "    </tr>\n",
       "    <tr>\n",
       "      <th>...</th>\n",
       "      <td>...</td>\n",
       "      <td>...</td>\n",
       "      <td>...</td>\n",
       "      <td>...</td>\n",
       "      <td>...</td>\n",
       "      <td>...</td>\n",
       "    </tr>\n",
       "    <tr>\n",
       "      <th>56659</th>\n",
       "      <td>5226332136</td>\n",
       "      <td>NaN</td>\n",
       "      <td>2021-05-21 08:23:53</td>\n",
       "      <td>{'id': 5561, 'latitude': '52.04', 'longitude':...</td>\n",
       "      <td>{'id': 11017, 'pin': '11', 'sensor_type': {'id...</td>\n",
       "      <td>[{'id': 11403454318, 'value': '-144.06', 'valu...</td>\n",
       "    </tr>\n",
       "    <tr>\n",
       "      <th>56660</th>\n",
       "      <td>5226332134</td>\n",
       "      <td>NaN</td>\n",
       "      <td>2021-05-21 08:23:53</td>\n",
       "      <td>{'id': 43001, 'latitude': '46.09950934032', 'l...</td>\n",
       "      <td>{'id': 57127, 'pin': '11', 'sensor_type': {'id...</td>\n",
       "      <td>[{'id': 11403454309, 'value': '16.9', 'value_t...</td>\n",
       "    </tr>\n",
       "    <tr>\n",
       "      <th>56661</th>\n",
       "      <td>5226332133</td>\n",
       "      <td>NaN</td>\n",
       "      <td>2021-05-21 08:23:53</td>\n",
       "      <td>{'id': 22218, 'latitude': '51.22535500000', 'l...</td>\n",
       "      <td>{'id': 36172, 'pin': '7', 'sensor_type': {'id'...</td>\n",
       "      <td>[{'id': 11403454305, 'value': '13.20', 'value_...</td>\n",
       "    </tr>\n",
       "    <tr>\n",
       "      <th>56662</th>\n",
       "      <td>5226332132</td>\n",
       "      <td>NaN</td>\n",
       "      <td>2021-05-21 08:23:53</td>\n",
       "      <td>{'id': 19631, 'latitude': '50.87423808414', 'l...</td>\n",
       "      <td>{'id': 33259, 'pin': '7', 'sensor_type': {'id'...</td>\n",
       "      <td>[{'id': 11403454293, 'value': '15.60', 'value_...</td>\n",
       "    </tr>\n",
       "    <tr>\n",
       "      <th>56663</th>\n",
       "      <td>5226332130</td>\n",
       "      <td>NaN</td>\n",
       "      <td>2021-05-21 08:23:53</td>\n",
       "      <td>{'id': 3138, 'latitude': '52.55', 'longitude':...</td>\n",
       "      <td>{'id': 6210, 'pin': '7', 'sensor_type': {'id':...</td>\n",
       "      <td>[{'id': 11403454297, 'value': '21.10', 'value_...</td>\n",
       "    </tr>\n",
       "  </tbody>\n",
       "</table>\n",
       "<p>56664 rows × 6 columns</p>\n",
       "</div>"
      ],
      "text/plain": [
       "               id  sampling_rate           timestamp  \\\n",
       "0      5226389277            NaN 2021-05-21 08:29:02   \n",
       "1      5226389276            NaN 2021-05-21 08:29:02   \n",
       "2      5226389275            NaN 2021-05-21 08:29:02   \n",
       "3      5226389274            NaN 2021-05-21 08:29:02   \n",
       "4      5226389273            NaN 2021-05-21 08:29:02   \n",
       "...           ...            ...                 ...   \n",
       "56659  5226332136            NaN 2021-05-21 08:23:53   \n",
       "56660  5226332134            NaN 2021-05-21 08:23:53   \n",
       "56661  5226332133            NaN 2021-05-21 08:23:53   \n",
       "56662  5226332132            NaN 2021-05-21 08:23:53   \n",
       "56663  5226332130            NaN 2021-05-21 08:23:53   \n",
       "\n",
       "                                                location  \\\n",
       "0      {'id': 29322, 'latitude': '-33.67297030983', '...   \n",
       "1      {'id': 45770, 'latitude': '51.07770890000', 'l...   \n",
       "2      {'id': 30652, 'latitude': '47.61994715000', 'l...   \n",
       "3      {'id': 17916, 'latitude': '51.516', 'longitude...   \n",
       "4      {'id': 33376, 'latitude': '51.306', 'longitude...   \n",
       "...                                                  ...   \n",
       "56659  {'id': 5561, 'latitude': '52.04', 'longitude':...   \n",
       "56660  {'id': 43001, 'latitude': '46.09950934032', 'l...   \n",
       "56661  {'id': 22218, 'latitude': '51.22535500000', 'l...   \n",
       "56662  {'id': 19631, 'latitude': '50.87423808414', 'l...   \n",
       "56663  {'id': 3138, 'latitude': '52.55', 'longitude':...   \n",
       "\n",
       "                                                  sensor  \\\n",
       "0      {'id': 43722, 'pin': '1', 'sensor_type': {'id'...   \n",
       "1      {'id': 59912, 'pin': '1', 'sensor_type': {'id'...   \n",
       "2      {'id': 44915, 'pin': '1', 'sensor_type': {'id'...   \n",
       "3      {'id': 31284, 'pin': '1', 'sensor_type': {'id'...   \n",
       "4      {'id': 23321, 'pin': '11', 'sensor_type': {'id...   \n",
       "...                                                  ...   \n",
       "56659  {'id': 11017, 'pin': '11', 'sensor_type': {'id...   \n",
       "56660  {'id': 57127, 'pin': '11', 'sensor_type': {'id...   \n",
       "56661  {'id': 36172, 'pin': '7', 'sensor_type': {'id'...   \n",
       "56662  {'id': 33259, 'pin': '7', 'sensor_type': {'id'...   \n",
       "56663  {'id': 6210, 'pin': '7', 'sensor_type': {'id':...   \n",
       "\n",
       "                                        sensordatavalues  \n",
       "0      [{'id': 11403581044, 'value': '7', 'value_type...  \n",
       "1      [{'id': 11403581047, 'value': '24.70', 'value_...  \n",
       "2      [{'id': 11403581036, 'value': '3.3', 'value_ty...  \n",
       "3      [{'id': 11403581037, 'value': '15.47', 'value_...  \n",
       "4      [{'id': 11403581031, 'value': '16.59', 'value_...  \n",
       "...                                                  ...  \n",
       "56659  [{'id': 11403454318, 'value': '-144.06', 'valu...  \n",
       "56660  [{'id': 11403454309, 'value': '16.9', 'value_t...  \n",
       "56661  [{'id': 11403454305, 'value': '13.20', 'value_...  \n",
       "56662  [{'id': 11403454293, 'value': '15.60', 'value_...  \n",
       "56663  [{'id': 11403454297, 'value': '21.10', 'value_...  \n",
       "\n",
       "[56664 rows x 6 columns]"
      ]
     },
     "execution_count": 4,
     "metadata": {},
     "output_type": "execute_result"
    }
   ],
   "source": [
    "dp"
   ]
  },
  {
   "cell_type": "code",
   "execution_count": 5,
   "metadata": {},
   "outputs": [],
   "source": [
    "ds = spark.read.json('data/data.json')"
   ]
  },
  {
   "cell_type": "code",
   "execution_count": 6,
   "metadata": {},
   "outputs": [
    {
     "name": "stdout",
     "output_type": "stream",
     "text": [
      "+----------+--------------------+-------------+--------------------+--------------------+-------------------+\n",
      "|        id|            location|sampling_rate|              sensor|    sensordatavalues|          timestamp|\n",
      "+----------+--------------------+-------------+--------------------+--------------------+-------------------+\n",
      "|5199713208|{19.7, BE, 0, 205...|         null|{34249, 7, {9, va...|[{11344370230, 20...|2021-05-19 14:44:02|\n",
      "|5199713206|{5.0, DE, 0, 5987...|         null|{11856, 11, {17, ...|[{11344370225, 10...|2021-05-19 14:44:02|\n",
      "|5199713205|{230.8, DE, 0, 16...|         null|{30133, 1, {14, N...|[{11344370228, 4....|2021-05-19 14:44:02|\n",
      "|5199713204|{404.6, IT, 0, 32...|         null|{46282, 1, {14, N...|[{11344370223, 0....|2021-05-19 14:44:02|\n",
      "|5199713203|{278.0, DE, 1, 23...|         null|{15278, 11, {17, ...|[{11344370215, 14...|2021-05-19 14:44:02|\n",
      "|5199713202|{186.0, RU, 0, 42...|         null|{56333, 1, {14, N...|[{11344370217, 19...|2021-05-19 14:44:02|\n",
      "|5199713201|{164.3, AT, 0, 34...|         null|{48602, 1, {14, N...|[{11344370209, 0....|2021-05-19 14:44:02|\n",
      "|5199713200|{155.1, DE, 1, 39...|         null|{53258, 11, {17, ...|[{11344370207, 23...|2021-05-19 14:44:02|\n",
      "|5199713199|{71.5, IT, 0, 261...|         null|{23428, 1, {14, N...|[{11344370210, 0....|2021-05-19 14:44:02|\n",
      "|5199713198|{529.3, DE, 0, 34...|         null|{48562, 1, {14, N...|[{11344370202, 8....|2021-05-19 14:44:02|\n",
      "|5199713197|{95.3, PL, 0, 469...|         null|{61076, 1, {14, N...|[{11344370205, 10...|2021-05-19 14:44:02|\n",
      "|5199713196|{23.8, FI, 0, 441...|         null|{32127, 7, {9, va...|[{11344370204, 17...|2021-05-19 14:44:02|\n",
      "|5199713195|{319.7, AT, 0, 24...|         null|{38436, 7, {9, va...|[{11344370193, 20...|2021-05-19 14:44:02|\n",
      "|5199713194|{3.9, NL, 1, 4783...|         null|{59924, 1, {14, N...|[{11344370196, 1....|2021-05-19 14:44:02|\n",
      "|5199713193|{219.1, DE, 0, 20...|         null|{435, 7, {9, vari...|[{11344370194, 17...|2021-05-19 14:44:02|\n",
      "|5199713192|{60.9, PL, 1, 408...|         null|{54939, 1, {14, N...|[{11344370190, 2....|2021-05-19 14:44:02|\n",
      "|5199713191|{577.5, IT, 1, 12...|         null|{24769, 1, {14, N...|[{11344370197, 5....|2021-05-19 14:44:02|\n",
      "|5199713190|{199.7, DE, 0, 21...|         null|{35704, 11, {17, ...|[{11344370187, 23...|2021-05-19 14:44:02|\n",
      "|5199713189|{462.5, DE, 0, 64...|         null|{1294, 1, {14, No...|[{11344370188, 4....|2021-05-19 14:44:02|\n",
      "|5199713188|{3.6, NL, 1, 4573...|         null|{59865, 11, {17, ...|[{11344370192, 19...|2021-05-19 14:44:02|\n",
      "+----------+--------------------+-------------+--------------------+--------------------+-------------------+\n",
      "only showing top 20 rows\n",
      "\n"
     ]
    }
   ],
   "source": [
    "ds.show()"
   ]
  },
  {
   "cell_type": "code",
   "execution_count": 7,
   "metadata": {},
   "outputs": [
    {
     "name": "stdout",
     "output_type": "stream",
     "text": [
      "+----------+-------------------+\n",
      "|        id|          timestamp|\n",
      "+----------+-------------------+\n",
      "|5199713208|2021-05-19 14:44:02|\n",
      "|5199713206|2021-05-19 14:44:02|\n",
      "|5199713205|2021-05-19 14:44:02|\n",
      "|5199713204|2021-05-19 14:44:02|\n",
      "+----------+-------------------+\n",
      "only showing top 4 rows\n",
      "\n"
     ]
    }
   ],
   "source": [
    "ds[['id','timestamp']].show(4)"
   ]
  },
  {
   "cell_type": "code",
   "execution_count": 8,
   "metadata": {},
   "outputs": [
    {
     "data": {
      "text/plain": [
       "['id', 'location', 'sampling_rate', 'sensor', 'sensordatavalues', 'timestamp']"
      ]
     },
     "execution_count": 8,
     "metadata": {},
     "output_type": "execute_result"
    }
   ],
   "source": [
    "ds.columns"
   ]
  },
  {
   "cell_type": "code",
   "execution_count": 9,
   "metadata": {},
   "outputs": [
    {
     "data": {
      "text/plain": [
       "[('id', 'bigint'),\n",
       " ('location',\n",
       "  'struct<altitude:string,country:string,exact_location:bigint,id:bigint,indoor:bigint,latitude:string,longitude:string>'),\n",
       " ('sampling_rate', 'bigint'),\n",
       " ('sensor',\n",
       "  'struct<id:bigint,pin:string,sensor_type:struct<id:bigint,manufacturer:string,name:string>>'),\n",
       " ('sensordatavalues',\n",
       "  'array<struct<id:bigint,value:string,value_type:string>>'),\n",
       " ('timestamp', 'string')]"
      ]
     },
     "execution_count": 9,
     "metadata": {},
     "output_type": "execute_result"
    }
   ],
   "source": [
    "ds.dtypes"
   ]
  },
  {
   "cell_type": "code",
   "execution_count": 10,
   "metadata": {},
   "outputs": [],
   "source": [
    "drop_name = ['location','sensor']"
   ]
  },
  {
   "cell_type": "code",
   "execution_count": 11,
   "metadata": {},
   "outputs": [
    {
     "name": "stdout",
     "output_type": "stream",
     "text": [
      "+----------+-------------+--------------------+-------------------+\n",
      "|        id|sampling_rate|    sensordatavalues|          timestamp|\n",
      "+----------+-------------+--------------------+-------------------+\n",
      "|5199713208|         null|[{11344370230, 20...|2021-05-19 14:44:02|\n",
      "|5199713206|         null|[{11344370225, 10...|2021-05-19 14:44:02|\n",
      "|5199713205|         null|[{11344370228, 4....|2021-05-19 14:44:02|\n",
      "|5199713204|         null|[{11344370223, 0....|2021-05-19 14:44:02|\n",
      "|5199713203|         null|[{11344370215, 14...|2021-05-19 14:44:02|\n",
      "|5199713202|         null|[{11344370217, 19...|2021-05-19 14:44:02|\n",
      "|5199713201|         null|[{11344370209, 0....|2021-05-19 14:44:02|\n",
      "|5199713200|         null|[{11344370207, 23...|2021-05-19 14:44:02|\n",
      "|5199713199|         null|[{11344370210, 0....|2021-05-19 14:44:02|\n",
      "|5199713198|         null|[{11344370202, 8....|2021-05-19 14:44:02|\n",
      "|5199713197|         null|[{11344370205, 10...|2021-05-19 14:44:02|\n",
      "|5199713196|         null|[{11344370204, 17...|2021-05-19 14:44:02|\n",
      "|5199713195|         null|[{11344370193, 20...|2021-05-19 14:44:02|\n",
      "|5199713194|         null|[{11344370196, 1....|2021-05-19 14:44:02|\n",
      "|5199713193|         null|[{11344370194, 17...|2021-05-19 14:44:02|\n",
      "|5199713192|         null|[{11344370190, 2....|2021-05-19 14:44:02|\n",
      "|5199713191|         null|[{11344370197, 5....|2021-05-19 14:44:02|\n",
      "|5199713190|         null|[{11344370187, 23...|2021-05-19 14:44:02|\n",
      "|5199713189|         null|[{11344370188, 4....|2021-05-19 14:44:02|\n",
      "|5199713188|         null|[{11344370192, 19...|2021-05-19 14:44:02|\n",
      "+----------+-------------+--------------------+-------------------+\n",
      "only showing top 20 rows\n",
      "\n"
     ]
    }
   ],
   "source": [
    "ds.drop(*drop_name).show()"
   ]
  },
  {
   "cell_type": "code",
   "execution_count": 7,
   "metadata": {},
   "outputs": [],
   "source": [
    "##JOIN\n",
    "from pyspark.conf import SparkConf\n",
    "from pyspark.context import SparkContext\n",
    "from pyspark.sql import SparkSession\n",
    "import pandas as pd"
   ]
  },
  {
   "cell_type": "code",
   "execution_count": 8,
   "metadata": {},
   "outputs": [],
   "source": [
    "spark = SparkSession \\\n",
    ".builder \\\n",
    ".appName(\"Python Spark create RDD example\") \\\n",
    ".config(\"spark.some.config.option\", \"some-value\") \\\n",
    ".getOrCreate()\n",
    "# sc= SparkContext('local','example')\n",
    "# hc = HiveContext(sc)"
   ]
  },
  {
   "cell_type": "code",
   "execution_count": 9,
   "metadata": {},
   "outputs": [],
   "source": [
    "leftp = pd.DataFrame({'A': ['A0', 'A1', 'A2', 'A3'],\n",
    "'B': ['B0', 'B1', 'B2', 'B3'],\n",
    "'C': ['C0', 'C1', 'C2', 'C3'],\n",
    "'D': ['D0', 'D1', 'D2', 'D3']},\n",
    "index=[0, 1, 2, 3])\n",
    "rightp = pd.DataFrame({'A': ['A0', 'A1', 'A6','A7'],\n",
    "'F': ['B4', 'B5', 'B6','B7'],\n",
    "'G': ['C4', 'C5', 'C6','C7'],\n",
    "'H': ['D4', 'D5', 'D6','D7']},\n",
    "index=[4, 5, 6, 7])\n",
    "\n",
    "lefts = spark.createDataFrame(leftp)\n",
    "rights = spark.createDataFrame(rightp)"
   ]
  },
  {
   "cell_type": "code",
   "execution_count": 10,
   "metadata": {},
   "outputs": [
    {
     "data": {
      "text/html": [
       "<div>\n",
       "<style scoped>\n",
       "    .dataframe tbody tr th:only-of-type {\n",
       "        vertical-align: middle;\n",
       "    }\n",
       "\n",
       "    .dataframe tbody tr th {\n",
       "        vertical-align: top;\n",
       "    }\n",
       "\n",
       "    .dataframe thead th {\n",
       "        text-align: right;\n",
       "    }\n",
       "</style>\n",
       "<table border=\"1\" class=\"dataframe\">\n",
       "  <thead>\n",
       "    <tr style=\"text-align: right;\">\n",
       "      <th></th>\n",
       "      <th>A</th>\n",
       "      <th>B</th>\n",
       "      <th>C</th>\n",
       "      <th>D</th>\n",
       "    </tr>\n",
       "  </thead>\n",
       "  <tbody>\n",
       "    <tr>\n",
       "      <th>0</th>\n",
       "      <td>A0</td>\n",
       "      <td>B0</td>\n",
       "      <td>C0</td>\n",
       "      <td>D0</td>\n",
       "    </tr>\n",
       "    <tr>\n",
       "      <th>1</th>\n",
       "      <td>A1</td>\n",
       "      <td>B1</td>\n",
       "      <td>C1</td>\n",
       "      <td>D1</td>\n",
       "    </tr>\n",
       "    <tr>\n",
       "      <th>2</th>\n",
       "      <td>A2</td>\n",
       "      <td>B2</td>\n",
       "      <td>C2</td>\n",
       "      <td>D2</td>\n",
       "    </tr>\n",
       "    <tr>\n",
       "      <th>3</th>\n",
       "      <td>A3</td>\n",
       "      <td>B3</td>\n",
       "      <td>C3</td>\n",
       "      <td>D3</td>\n",
       "    </tr>\n",
       "  </tbody>\n",
       "</table>\n",
       "</div>"
      ],
      "text/plain": [
       "    A   B   C   D\n",
       "0  A0  B0  C0  D0\n",
       "1  A1  B1  C1  D1\n",
       "2  A2  B2  C2  D2\n",
       "3  A3  B3  C3  D3"
      ]
     },
     "execution_count": 10,
     "metadata": {},
     "output_type": "execute_result"
    }
   ],
   "source": [
    "leftp"
   ]
  },
  {
   "cell_type": "code",
   "execution_count": 11,
   "metadata": {},
   "outputs": [
    {
     "data": {
      "text/html": [
       "<div>\n",
       "<style scoped>\n",
       "    .dataframe tbody tr th:only-of-type {\n",
       "        vertical-align: middle;\n",
       "    }\n",
       "\n",
       "    .dataframe tbody tr th {\n",
       "        vertical-align: top;\n",
       "    }\n",
       "\n",
       "    .dataframe thead th {\n",
       "        text-align: right;\n",
       "    }\n",
       "</style>\n",
       "<table border=\"1\" class=\"dataframe\">\n",
       "  <thead>\n",
       "    <tr style=\"text-align: right;\">\n",
       "      <th></th>\n",
       "      <th>A</th>\n",
       "      <th>F</th>\n",
       "      <th>G</th>\n",
       "      <th>H</th>\n",
       "    </tr>\n",
       "  </thead>\n",
       "  <tbody>\n",
       "    <tr>\n",
       "      <th>4</th>\n",
       "      <td>A0</td>\n",
       "      <td>B4</td>\n",
       "      <td>C4</td>\n",
       "      <td>D4</td>\n",
       "    </tr>\n",
       "    <tr>\n",
       "      <th>5</th>\n",
       "      <td>A1</td>\n",
       "      <td>B5</td>\n",
       "      <td>C5</td>\n",
       "      <td>D5</td>\n",
       "    </tr>\n",
       "    <tr>\n",
       "      <th>6</th>\n",
       "      <td>A6</td>\n",
       "      <td>B6</td>\n",
       "      <td>C6</td>\n",
       "      <td>D6</td>\n",
       "    </tr>\n",
       "    <tr>\n",
       "      <th>7</th>\n",
       "      <td>A7</td>\n",
       "      <td>B7</td>\n",
       "      <td>C7</td>\n",
       "      <td>D7</td>\n",
       "    </tr>\n",
       "  </tbody>\n",
       "</table>\n",
       "</div>"
      ],
      "text/plain": [
       "    A   F   G   H\n",
       "4  A0  B4  C4  D4\n",
       "5  A1  B5  C5  D5\n",
       "6  A6  B6  C6  D6\n",
       "7  A7  B7  C7  D7"
      ]
     },
     "execution_count": 11,
     "metadata": {},
     "output_type": "execute_result"
    }
   ],
   "source": [
    "rightp"
   ]
  },
  {
   "cell_type": "code",
   "execution_count": 12,
   "metadata": {},
   "outputs": [
    {
     "name": "stdout",
     "output_type": "stream",
     "text": [
      "+---+---+---+---+\n",
      "|  A|  B|  C|  D|\n",
      "+---+---+---+---+\n",
      "| A0| B0| C0| D0|\n",
      "| A1| B1| C1| D1|\n",
      "| A2| B2| C2| D2|\n",
      "| A3| B3| C3| D3|\n",
      "+---+---+---+---+\n",
      "\n"
     ]
    }
   ],
   "source": [
    "lefts.show()"
   ]
  },
  {
   "cell_type": "code",
   "execution_count": 13,
   "metadata": {},
   "outputs": [
    {
     "name": "stdout",
     "output_type": "stream",
     "text": [
      "+---+---+---+---+\n",
      "|  A|  F|  G|  H|\n",
      "+---+---+---+---+\n",
      "| A0| B4| C4| D4|\n",
      "| A1| B5| C5| D5|\n",
      "| A6| B6| C6| D6|\n",
      "| A7| B7| C7| D7|\n",
      "+---+---+---+---+\n",
      "\n"
     ]
    }
   ],
   "source": [
    "rights.show()"
   ]
  },
  {
   "cell_type": "code",
   "execution_count": 14,
   "metadata": {},
   "outputs": [],
   "source": [
    "fr=lefts.join(rights,on='A',how='left')"
   ]
  },
  {
   "cell_type": "code",
   "execution_count": 15,
   "metadata": {},
   "outputs": [
    {
     "name": "stdout",
     "output_type": "stream",
     "text": [
      "+---+---+---+---+----+----+----+\n",
      "|  A|  B|  C|  D|   F|   G|   H|\n",
      "+---+---+---+---+----+----+----+\n",
      "| A2| B2| C2| D2|null|null|null|\n",
      "| A0| B0| C0| D0|  B4|  C4|  D4|\n",
      "| A3| B3| C3| D3|null|null|null|\n",
      "| A1| B1| C1| D1|  B5|  C5|  D5|\n",
      "+---+---+---+---+----+----+----+\n",
      "\n"
     ]
    }
   ],
   "source": [
    "fr.show()"
   ]
  },
  {
   "cell_type": "code",
   "execution_count": 30,
   "metadata": {},
   "outputs": [
    {
     "name": "stdout",
     "output_type": "stream",
     "text": [
      "+----+----+----+\n",
      "|col1|col2|col3|\n",
      "+----+----+----+\n",
      "|   a|   2|   3|\n",
      "|   b|   5|   6|\n",
      "|   c|   8|   9|\n",
      "|   a|   2|   3|\n",
      "|   b|   5|   6|\n",
      "|   c|   8|   9|\n",
      "+----+----+----+\n",
      "\n"
     ]
    }
   ],
   "source": [
    "ds.show()"
   ]
  },
  {
   "cell_type": "code",
   "execution_count": 31,
   "metadata": {},
   "outputs": [],
   "source": []
  },
  {
   "cell_type": "code",
   "execution_count": 19,
   "metadata": {},
   "outputs": [],
   "source": [
    "my_list = [('a', 2, 3),\n",
    "('b',  5, 6),\n",
    "('c', 8, 9),\n",
    "('a', 2, 3),\n",
    "('b', 5, 6),\n",
    "('c', 8, 9)] \n",
    "col_name = ['col1', 'col2', 'col3']\n",
    "#\n",
    "dp = pd.DataFrame(my_list,columns=col_name)\n",
    "ds = spark.createDataFrame(my_list,schema=col_name)"
   ]
  },
  {
   "cell_type": "code",
   "execution_count": 20,
   "metadata": {},
   "outputs": [
    {
     "data": {
      "text/html": [
       "<div>\n",
       "<style scoped>\n",
       "    .dataframe tbody tr th:only-of-type {\n",
       "        vertical-align: middle;\n",
       "    }\n",
       "\n",
       "    .dataframe tbody tr th {\n",
       "        vertical-align: top;\n",
       "    }\n",
       "\n",
       "    .dataframe thead th {\n",
       "        text-align: right;\n",
       "    }\n",
       "</style>\n",
       "<table border=\"1\" class=\"dataframe\">\n",
       "  <thead>\n",
       "    <tr style=\"text-align: right;\">\n",
       "      <th></th>\n",
       "      <th>col1</th>\n",
       "      <th>col2</th>\n",
       "      <th>col3</th>\n",
       "    </tr>\n",
       "  </thead>\n",
       "  <tbody>\n",
       "    <tr>\n",
       "      <th>0</th>\n",
       "      <td>a</td>\n",
       "      <td>2</td>\n",
       "      <td>3</td>\n",
       "    </tr>\n",
       "    <tr>\n",
       "      <th>1</th>\n",
       "      <td>b</td>\n",
       "      <td>5</td>\n",
       "      <td>6</td>\n",
       "    </tr>\n",
       "    <tr>\n",
       "      <th>2</th>\n",
       "      <td>c</td>\n",
       "      <td>8</td>\n",
       "      <td>9</td>\n",
       "    </tr>\n",
       "    <tr>\n",
       "      <th>3</th>\n",
       "      <td>a</td>\n",
       "      <td>2</td>\n",
       "      <td>3</td>\n",
       "    </tr>\n",
       "    <tr>\n",
       "      <th>4</th>\n",
       "      <td>b</td>\n",
       "      <td>5</td>\n",
       "      <td>6</td>\n",
       "    </tr>\n",
       "    <tr>\n",
       "      <th>5</th>\n",
       "      <td>c</td>\n",
       "      <td>8</td>\n",
       "      <td>9</td>\n",
       "    </tr>\n",
       "  </tbody>\n",
       "</table>\n",
       "</div>"
      ],
      "text/plain": [
       "  col1  col2  col3\n",
       "0    a     2     3\n",
       "1    b     5     6\n",
       "2    c     8     9\n",
       "3    a     2     3\n",
       "4    b     5     6\n",
       "5    c     8     9"
      ]
     },
     "execution_count": 20,
     "metadata": {},
     "output_type": "execute_result"
    }
   ],
   "source": [
    "dp"
   ]
  },
  {
   "cell_type": "code",
   "execution_count": 21,
   "metadata": {},
   "outputs": [
    {
     "name": "stdout",
     "output_type": "stream",
     "text": [
      "+----+----+----+\n",
      "|col1|col2|col3|\n",
      "+----+----+----+\n",
      "|   a|   2|   3|\n",
      "|   b|   5|   6|\n",
      "|   c|   8|   9|\n",
      "|   a|   2|   3|\n",
      "|   b|   5|   6|\n",
      "|   c|   8|   9|\n",
      "+----+----+----+\n",
      "\n"
     ]
    }
   ],
   "source": [
    "ds.show()"
   ]
  },
  {
   "cell_type": "code",
   "execution_count": 22,
   "metadata": {},
   "outputs": [],
   "source": [
    "dp['concat'] = dp.apply(lambda x:'%s%s'%(x['col1'],x['col2']),axis=1)"
   ]
  },
  {
   "cell_type": "code",
   "execution_count": 26,
   "metadata": {},
   "outputs": [
    {
     "name": "stdout",
     "output_type": "stream",
     "text": [
      "+----+----+----+\n",
      "|col1|col2|col3|\n",
      "+----+----+----+\n",
      "|   a|   2|   3|\n",
      "|   b|   5|   6|\n",
      "|   c|   8|   9|\n",
      "|   a|   2|   3|\n",
      "|   b|   5|   6|\n",
      "|   c|   8|   9|\n",
      "+----+----+----+\n",
      "\n"
     ]
    }
   ],
   "source": [
    "ds.show()"
   ]
  },
  {
   "cell_type": "code",
   "execution_count": 32,
   "metadata": {},
   "outputs": [],
   "source": [
    "data = [('James','','Smith','1991-04-01','M',3000),\n",
    "  ('Michael','Rose','','2000-05-19','M',4000),\n",
    "  ('Robert','','Williams','1978-09-05','M',4000),\n",
    "  ('Maria','Anne','Jones','1967-12-01','F',4000),\n",
    "  ('Jen','Mary','Brown','1980-02-17','F',-1)\n",
    "]\n",
    "\n",
    "columns = [\"firstname\",\"middlename\",\"lastname\",\"dob\",\"gender\",\"salary\"]\n",
    "from pyspark.sql import SparkSession\n",
    "spark = SparkSession.builder.appName('SparkByExamples.com').getOrCreate()\n",
    "df = spark.createDataFrame(data=data, schema = columns)"
   ]
  },
  {
   "cell_type": "code",
   "execution_count": 33,
   "metadata": {},
   "outputs": [
    {
     "name": "stdout",
     "output_type": "stream",
     "text": [
      "+---------+----------+--------+----------+------+------+\n",
      "|firstname|middlename|lastname|       dob|gender|salary|\n",
      "+---------+----------+--------+----------+------+------+\n",
      "|    James|          |   Smith|1991-04-01|     M|  3000|\n",
      "|  Michael|      Rose|        |2000-05-19|     M|  4000|\n",
      "|   Robert|          |Williams|1978-09-05|     M|  4000|\n",
      "|    Maria|      Anne|   Jones|1967-12-01|     F|  4000|\n",
      "|      Jen|      Mary|   Brown|1980-02-17|     F|    -1|\n",
      "+---------+----------+--------+----------+------+------+\n",
      "\n"
     ]
    }
   ],
   "source": [
    "df.show()"
   ]
  },
  {
   "cell_type": "code",
   "execution_count": 41,
   "metadata": {},
   "outputs": [
    {
     "ename": "AttributeError",
     "evalue": "'str' object has no attribute 'cast'",
     "output_type": "error",
     "traceback": [
      "\u001b[0;31m---------------------------------------------------------------------------\u001b[0m",
      "\u001b[0;31mAttributeError\u001b[0m                            Traceback (most recent call last)",
      "\u001b[0;32m<ipython-input-41-457d1000d7b8>\u001b[0m in \u001b[0;36m<module>\u001b[0;34m\u001b[0m\n\u001b[0;32m----> 1\u001b[0;31m \u001b[0mdf\u001b[0m\u001b[0;34m.\u001b[0m\u001b[0mwithColumn\u001b[0m\u001b[0;34m(\u001b[0m\u001b[0;34m\"salary\"\u001b[0m\u001b[0;34m,\u001b[0m\u001b[0mcol\u001b[0m\u001b[0;34m=\u001b[0m\u001b[0;34m(\u001b[0m\u001b[0;34m\"salary\"\u001b[0m\u001b[0;34m)\u001b[0m\u001b[0;34m.\u001b[0m\u001b[0mcast\u001b[0m\u001b[0;34m(\u001b[0m\u001b[0;34m\"Integer\"\u001b[0m\u001b[0;34m)\u001b[0m\u001b[0;34m)\u001b[0m\u001b[0;34m.\u001b[0m\u001b[0mshow\u001b[0m\u001b[0;34m(\u001b[0m\u001b[0;34m)\u001b[0m\u001b[0;34m\u001b[0m\u001b[0;34m\u001b[0m\u001b[0m\n\u001b[0m",
      "\u001b[0;31mAttributeError\u001b[0m: 'str' object has no attribute 'cast'"
     ]
    }
   ],
   "source": [
    "df.withColumn(\"salary\",col=(\"salary\").cast(\"Integer\")).show()\n"
   ]
  },
  {
   "cell_type": "code",
   "execution_count": null,
   "metadata": {},
   "outputs": [],
   "source": []
  }
 ],
 "metadata": {
  "kernelspec": {
   "display_name": "Python 3.8.5 64-bit",
   "language": "python",
   "name": "python385jvsc74a57bd075a498e876064b852a066a747cb28d21c70864f5dbc042b9766d1ceb6eda917c"
  },
  "language_info": {
   "codemirror_mode": {
    "name": "ipython",
    "version": 3
   },
   "file_extension": ".py",
   "mimetype": "text/x-python",
   "name": "python",
   "nbconvert_exporter": "python",
   "pygments_lexer": "ipython3",
   "version": "3.8.5"
  }
 },
 "nbformat": 4,
 "nbformat_minor": 4
}
